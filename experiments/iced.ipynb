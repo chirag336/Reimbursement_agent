{
  "nbformat": 4,
  "nbformat_minor": 0,
  "metadata": {
    "colab": {
      "provenance": []
    },
    "kernelspec": {
      "name": "python3",
      "display_name": "Python 3"
    },
    "language_info": {
      "name": "python"
    }
  },
  "cells": [
    {
      "cell_type": "markdown",
      "source": [
        "#Basic Steps\n",
        "Setup and Imports\n",
        "\n",
        "Example Data\n",
        "\n",
        "SMS/UPI Transactions\n",
        "\n",
        "Discount App Data\n",
        "\n",
        "Physical Bill/Invoice Data\n",
        "\n",
        "Data Extraction and Processing\n",
        "\n",
        "Saving Extracted Data"
      ],
      "metadata": {
        "id": "8lk5eKIQ2YS7"
      }
    },
    {
      "cell_type": "code",
      "source": [
        "# Setup and Imports\n",
        "import pandas as pd\n",
        "import re\n",
        "\n",
        "# Example Data\n",
        "# SMS/UPI Transactions\n",
        "sms_data = [\n",
        "    \"Your UPI payment of INR 350.00 to DineOut was successful. Ref ID: 1234567890.\",\n",
        "    \"Paid INR 1200.00 to OYO Rooms via UPI. Ref ID: 0987654321.\",\n",
        "    \"INR 250.00 paid to Uber via UPI. Ref ID: 1122334455.\"\n",
        "]\n",
        "\n",
        "# Discount App Data\n",
        "discount_app_data = [\n",
        "    {\"app\": \"DineOut\", \"amount\": 350.00, \"discount\": 50.00, \"date\": \"2023-10-01\"},\n",
        "    {\"app\": \"Swiggy\", \"amount\": 500.00, \"discount\": 100.00, \"date\": \"2023-10-02\"}\n",
        "]\n",
        "\n",
        "# Physical Bill/Invoice Data\n",
        "physical_bill_data = [\n",
        "    \"Invoice No: 789456, Date: 01-10-2023, Amount: 1200.00, Description: OYO Rooms\",\n",
        "    \"Invoice No: 123789, Date: 02-10-2023, Amount: 250.00, Description: Uber Ride\"\n",
        "]\n",
        "\n",
        "# Data Extraction and Processing\n",
        "def extract_sms_data(sms_list):\n",
        "    extracted_data = []\n",
        "    for sms in sms_list:\n",
        "        amount = re.search(r'INR (\\d+\\.\\d{2})', sms).group(1)\n",
        "        vendor = re.search(r'to (\\w+)', sms).group(1)\n",
        "        extracted_data.append({\"vendor\": vendor, \"amount\": float(amount)})\n",
        "    return pd.DataFrame(extracted_data)\n",
        "\n",
        "def process_discount_app_data(app_data):\n",
        "    return pd.DataFrame(app_data)\n",
        "\n",
        "def extract_physical_bill_data(bill_list):\n",
        "    extracted_data = []\n",
        "    for bill in bill_list:\n",
        "        amount = re.search(r'Amount: (\\d+\\.\\d{2})', bill).group(1)\n",
        "        description = re.search(r'Description: ([\\w\\s]+)', bill).group(1)\n",
        "        extracted_data.append({\"description\": description, \"amount\": float(amount)})\n",
        "    return pd.DataFrame(extracted_data)\n",
        "\n",
        "# Processing Data\n",
        "sms_df = extract_sms_data(sms_data)\n",
        "discount_app_df = process_discount_app_data(discount_app_data)\n",
        "physical_bill_df = extract_physical_bill_data(physical_bill_data)\n",
        "\n",
        "# Display Extracted Data\n",
        "print(\"SMS/UPI Transactions:\")\n",
        "print(sms_df)\n",
        "print(\"\\nDiscount App Data:\")\n",
        "print(discount_app_df)\n",
        "print(\"\\nPhysical Bill Data:\")\n",
        "print(physical_bill_df)\n",
        "\n",
        "# Saving Extracted Data\n",
        "sms_df.to_csv('sms_transactions.csv', index=False)\n",
        "discount_app_df.to_csv('discount_app_transactions.csv', index=False)\n",
        "physical_bill_df.to_csv('physical_bills.csv', index=False)"
      ],
      "metadata": {
        "id": "Ah6KL13r2eD5"
      },
      "execution_count": null,
      "outputs": []
    },
    {
      "cell_type": "markdown",
      "source": [
        "#Explanation\n",
        "SMS/UPI Transactions: The function extract_sms_data uses regular expressions to extract the amount and vendor from simulated SMS texts.\n",
        "\n",
        "Discount App Data: The function process_discount_app_data directly converts the list of dictionaries into a DataFrame.\n",
        "\n",
        "Physical Bill/Invoice Data: The function extract_physical_bill_data extracts the amount and description from simulated invoice texts.\n",
        "\n",
        "This notebook provides a basic framework for extracting and processing data from different sources. You can expand upon this by adding more sophisticated OCR capabilities for physical bills and integrating APIs for real-time data fetching from SMS and discount apps."
      ],
      "metadata": {
        "id": "lhy8AVD72r11"
      }
    },
    {
      "cell_type": "code",
      "source": [],
      "metadata": {
        "id": "F4ZFE0Pv2g7N"
      },
      "execution_count": null,
      "outputs": []
    }
  ]
}